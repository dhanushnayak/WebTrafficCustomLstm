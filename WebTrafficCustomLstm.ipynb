{
  "nbformat": 4,
  "nbformat_minor": 0,
  "metadata": {
    "colab": {
      "provenance": [],
      "gpuType": "T4",
      "private_outputs": true,
      "include_colab_link": true
    },
    "kernelspec": {
      "name": "python3",
      "display_name": "Python 3"
    },
    "language_info": {
      "name": "python"
    },
    "accelerator": "GPU",
    "gpuClass": "standard"
  },
  "cells": [
    {
      "cell_type": "markdown",
      "metadata": {
        "id": "view-in-github",
        "colab_type": "text"
      },
      "source": [
        "<a href=\"https://colab.research.google.com/github/dhanushnayak/Webtrafficcustomlstm/blob/main/WebTrafficCustomLstm.ipynb\" target=\"_parent\"><img src=\"https://colab.research.google.com/assets/colab-badge.svg\" alt=\"Open In Colab\"/></a>"
      ]
    },
    {
      "cell_type": "code",
      "execution_count": null,
      "metadata": {
        "id": "G0WiQYCLDJMv"
      },
      "outputs": [],
      "source": [
        "import pandas as pd\n",
        "import numpy as np\n",
        "import seaborn as sns\n",
        "import matplotlib.pyplot as plt\n",
        "plt.rcParams['figure.figsize']=(15,4)\n",
        "from wordcloud import WordCloud\n",
        "#del webmodel\n",
        "!unzip  /content/train_2.csv.zip -d /content"
      ]
    },
    {
      "cell_type": "code",
      "source": [
        "!pip install livelossplot"
      ],
      "metadata": {
        "id": "m504aWyUDa7e"
      },
      "execution_count": null,
      "outputs": []
    },
    {
      "cell_type": "code",
      "source": [
        "train = pd.read_csv('/content/train_2.csv')"
      ],
      "metadata": {
        "id": "-nRsN950DmAb"
      },
      "execution_count": null,
      "outputs": []
    },
    {
      "cell_type": "code",
      "source": [
        "wordcloud = WordCloud().generate(' '.join(train['Page'].unique().tolist()))\n",
        "plt.imshow(wordcloud, interpolation='bilinear')\n",
        "plt.axis(\"off\")\n",
        "plt.margins(x=0, y=0)\n",
        "plt.show()"
      ],
      "metadata": {
        "id": "rm2enNmvDmJl"
      },
      "execution_count": null,
      "outputs": []
    },
    {
      "cell_type": "code",
      "source": [
        "start_date =  train.columns[1]\n",
        "end_date = train.columns[-1]\n",
        "\n",
        "print(f'Start Date -> {start_date}, End Date -> {end_date}')"
      ],
      "metadata": {
        "id": "WeKjxb89Dm82"
      },
      "execution_count": null,
      "outputs": []
    },
    {
      "cell_type": "code",
      "source": [
        "df = train.copy()"
      ],
      "metadata": {
        "id": "ku2vajjHDm_g"
      },
      "execution_count": null,
      "outputs": []
    },
    {
      "cell_type": "code",
      "source": [
        "df = df.T"
      ],
      "metadata": {
        "id": "L7w9nyNUEruT"
      },
      "execution_count": null,
      "outputs": []
    },
    {
      "cell_type": "code",
      "source": [
        "df.head()"
      ],
      "metadata": {
        "id": "ks7dxz1nErrQ"
      },
      "execution_count": null,
      "outputs": []
    },
    {
      "cell_type": "code",
      "source": [
        "\n",
        "df.columns = df.iloc[0]\n",
        "df = df.iloc[2:]"
      ],
      "metadata": {
        "id": "5pGPyossErjc"
      },
      "execution_count": null,
      "outputs": []
    },
    {
      "cell_type": "code",
      "source": [
        "df.index= pd.to_datetime(df.index)"
      ],
      "metadata": {
        "id": "litaWc05Ergz"
      },
      "execution_count": null,
      "outputs": []
    },
    {
      "cell_type": "code",
      "source": [
        "from sklearn.preprocessing import StandardScaler,PowerTransformer,MinMaxScaler,FunctionTransformer\n",
        "\n",
        "std_sc =  FunctionTransformer(np.log1p)\n",
        "df_s  =  std_sc.transform(df.values.astype(np.float64))\n"
      ],
      "metadata": {
        "id": "IFd-qUVoFK57"
      },
      "execution_count": null,
      "outputs": []
    },
    {
      "cell_type": "code",
      "source": [],
      "metadata": {
        "id": "fD1_URgTXmr4"
      },
      "execution_count": null,
      "outputs": []
    },
    {
      "cell_type": "code",
      "source": [
        "import os\n",
        "import pickle\n",
        "if not os.path.exists('/content/assets/'): os.makedirs('/content/assets')\n",
        "with open(\"/content/assets/scaler.pkl\",'wb') as f: pickle.dump(std_sc,f)\n"
      ],
      "metadata": {
        "id": "3iVt2HpVWQGt"
      },
      "execution_count": null,
      "outputs": []
    },
    {
      "cell_type": "code",
      "source": [],
      "metadata": {
        "id": "Aqe6XYxJX20I"
      },
      "execution_count": null,
      "outputs": []
    },
    {
      "cell_type": "code",
      "source": [
        "df_sr =  pd.DataFrame(df_s,index= pd.to_datetime(df.index)).fillna(0)"
      ],
      "metadata": {
        "id": "BhahAgsUFK_e"
      },
      "execution_count": null,
      "outputs": []
    },
    {
      "cell_type": "code",
      "source": [
        "df_sr.mean(axis=0).to_csv('/content/assets/mean_off_sample.csv')"
      ],
      "metadata": {
        "id": "O8_M5uKTErdo"
      },
      "execution_count": null,
      "outputs": []
    },
    {
      "cell_type": "code",
      "source": [
        "df_sr-=df_sr.mean(axis=0)\n"
      ],
      "metadata": {
        "id": "XTpXRhNzLXRL"
      },
      "execution_count": null,
      "outputs": []
    },
    {
      "cell_type": "code",
      "source": [
        "df_sr = df_sr.iloc[:,:30000]"
      ],
      "metadata": {
        "id": "nQHXWHKAj2m3"
      },
      "execution_count": null,
      "outputs": []
    },
    {
      "cell_type": "code",
      "source": [
        "train_df = df_sr.iloc[:-1].T\n",
        "test_df = df_sr.iloc[-60:].T\n",
        "train_df.shape,test_df.shape"
      ],
      "metadata": {
        "id": "VSIaWKVqErbn"
      },
      "execution_count": null,
      "outputs": []
    },
    {
      "cell_type": "code",
      "source": [
        "#del train"
      ],
      "metadata": {
        "id": "pRSq8XN7kCMk"
      },
      "execution_count": null,
      "outputs": []
    },
    {
      "cell_type": "code",
      "source": [
        "plt.plot(train_df.iloc[0])\n",
        "plt.plot(test_df.iloc[0])"
      ],
      "metadata": {
        "id": "d6uAyCdsErYr"
      },
      "execution_count": null,
      "outputs": []
    },
    {
      "cell_type": "code",
      "source": [
        "test_df.head(5)"
      ],
      "metadata": {
        "id": "3bjn2rS8ErVh"
      },
      "execution_count": null,
      "outputs": []
    },
    {
      "cell_type": "code",
      "source": [
        "def data_generator(df):\n",
        "    i=0\n",
        "    j=60\n",
        "    while True:\n",
        "        if i>=len(df)-j-2 or j>=len(df)-2: i,j=0,60\n",
        "        print(f'I = {i} J = {j}')\n",
        "        try:\n",
        "            x= df.iloc[:,i:j].values\n",
        "            y = df.iloc[:,j].values\n",
        "            x = x.reshape(x.shape[0],x.shape[1],1)\n",
        "        except:\n",
        "          i,j=0,60\n",
        "          x= df.iloc[:,i:j].values\n",
        "          y = df.iloc[:,j].values\n",
        "          x = x.reshape(x.shape[0],x.shape[1],1)\n",
        "        yield x,y\n",
        "        i+=1\n",
        "        j+=1\n",
        "  "
      ],
      "metadata": {
        "id": "GxV6dJuMGGlf"
      },
      "execution_count": null,
      "outputs": []
    },
    {
      "cell_type": "code",
      "source": [
        "#x,y = next(data_generator(train_df))"
      ],
      "metadata": {
        "id": "G5K5yBjIgR1a"
      },
      "execution_count": null,
      "outputs": []
    },
    {
      "cell_type": "code",
      "source": [
        "#x[:,:60,:].shape"
      ],
      "metadata": {
        "id": "UBkHvRjqgXW-"
      },
      "execution_count": null,
      "outputs": []
    },
    {
      "cell_type": "code",
      "source": [
        "from keras import  Model\n",
        "from keras.layers import LSTM,Input,Dense,Dropout,Conv1D,Multiply,Add,Layer,Activation,Lambda\n",
        "import tensorflow as tf\n",
        "\n",
        "\n",
        "\n",
        "\n",
        "\n",
        "class WebTraffic(Model):\n",
        "    def __init__(self):\n",
        "        super(WebTraffic,self).__init__()\n",
        "        self.inp_data = Input(shape=(None, 1))\n",
        "        self.out_come = 1\n",
        "        self.dropout_ratio =  0.3\n",
        "        self.rates = [2**i for i in range(1,8)]\n",
        "        self.features =  32\n",
        "        self.feature_width = 2\n",
        "        \n",
        "        \n",
        "    def slice_layer(self,x,seq_length):\n",
        "      return x[:,-seq_length:,:]\n",
        "        \n",
        "    def call(self,inp,training=None):\n",
        "      outer_of_cell=[]\n",
        "      x =  inp\n",
        "      for rate in self.rates:\n",
        "        x = Conv1D(16, 1, padding='same', activation='relu')(x)\n",
        "        x_f = Conv1D(filters=32,\n",
        "                    kernel_size=2, \n",
        "                    padding='causal',\n",
        "                    dilation_rate=rate,activation='tanh')(x)\n",
        "\n",
        "        x_g = Conv1D(filters=32,\n",
        "                    kernel_size=2, \n",
        "                    padding='causal',\n",
        "                    dilation_rate=rate,activation='sigmoid')(x)\n",
        "\n",
        "        z = Multiply()([(x_f),(x_g)])\n",
        "        z = Conv1D(16, 1, padding='same', activation='relu')(z)\n",
        "        x = Add()([x, z]) \n",
        "\n",
        "        outer_of_cell.append(z)\n",
        "      \n",
        "      out = Activation('relu')(Add()(outer_of_cell))\n",
        "      print('Out 1 shape -> ',out.shape)\n",
        "\n",
        "      out = Conv1D(128, 1, padding='same')(out)\n",
        "      print('Out 2 shape -> ',out.shape)\n",
        "      out = Activation('relu')(out)\n",
        "      out = Dropout(.2)(out)\n",
        "      out = Conv1D(1, 1, padding='same')(out)\n",
        "      print('Out 3 shape -> ',out.shape)\n",
        "      pred_seq_train = Lambda(self.slice_layer, arguments={'seq_length':60})(out)\n",
        "      return pred_seq_train\n",
        "\n",
        "    \n",
        "    def build_model(self):\n",
        "        mod = Model(self.inp_data,outputs=self.call(self.inp_data))\n",
        "        return mod\n",
        "\n",
        "\n",
        "#del webmodel \n",
        "try: \n",
        "  del webmodel\n",
        "except: pass\n",
        "webmodel = WebTraffic().build_model()\n"
      ],
      "metadata": {
        "id": "T_WswtjwGGiT"
      },
      "execution_count": null,
      "outputs": []
    },
    {
      "cell_type": "code",
      "source": [
        "train_df_val = np.expand_dims(train_df.values,axis=2)\n",
        "test_df_val =  np.expand_dims(test_df.values,axis=2)"
      ],
      "metadata": {
        "id": "Ggnf41LtTGf_"
      },
      "execution_count": null,
      "outputs": []
    },
    {
      "cell_type": "code",
      "source": [
        "class Celloflstm(Layer):\n",
        "  def __init__(self):\n",
        "    super().__init__()\n",
        "    self.rates = [2**i for i in range(1,8)]\n",
        "  def slice_layer(self,x,seq_length):\n",
        "      return x[-seq_length:,: :]\n",
        "  def call(self,ids):\n",
        "    outer_of_cell=[]\n",
        "    x = ids\n",
        "    for rate in self.rates:\n",
        "        x = Conv1D(16, 1, padding='same', activation='relu')(ids)\n",
        "        x_f = Conv1D(filters=32,\n",
        "                    kernel_size=2, \n",
        "                    padding='causal',\n",
        "                    dilation_rate=rate,activation='tanh')(x)\n",
        "\n",
        "        x_g = Conv1D(filters=32,\n",
        "                    kernel_size=2, \n",
        "                    padding='causal',\n",
        "                    dilation_rate=rate,activation='sigmoid')(x)\n",
        "\n",
        "        z = Multiply()([(x_f),(x_g)])\n",
        "        z = Conv1D(16, 1, padding='same', activation='relu')(z)\n",
        "        x = Add()([x, z]) \n",
        "      \n",
        "        outer_of_cell.append(z)\n",
        "\n",
        "    out = Activation('relu')(Add()(outer_of_cell))\n",
        "    out = Conv1D(128, 1, padding='same')(out)\n",
        "    print('Out 2 shape -> ',out.shape)\n",
        "    out = Activation('relu')(out)\n",
        "    out = Dropout(.2)(out)\n",
        "    out = Conv1D(1, 1, padding='same')(out)\n",
        "    print('Out 3 shape -> ',out.shape)\n",
        "    pred_seq_train = Lambda(self.slice_layer, arguments={'seq_length':60})(out)\n",
        "    return pred_seq_train\n",
        "\n",
        "\n",
        "Celloflstm()(train_df_val[0].reshape(train_df_val[0].shape[0],train_df_val[0].shape[1],1)).shape"
      ],
      "metadata": {
        "id": "P2nLYyGOE2Hr"
      },
      "execution_count": null,
      "outputs": []
    },
    {
      "cell_type": "code",
      "source": [
        "#del webmodel\n",
        "import tensorflow as tf\n",
        "\n",
        "initial_learning_rate = 0.001\n",
        "\n",
        "lr_schedule = tf.keras.optimizers.schedules.ExponentialDecay(\n",
        "    initial_learning_rate,\n",
        "    decay_steps=5,\n",
        "    decay_rate=0.99,\n",
        "    staircase=True)\n"
      ],
      "metadata": {
        "id": "NnUhtgJ8bi8g"
      },
      "execution_count": null,
      "outputs": []
    },
    {
      "cell_type": "code",
      "source": [
        "from livelossplot import PlotLossesKeras\n",
        "from keras.callbacks import EarlyStopping,ModelCheckpoint\n",
        "ear=EarlyStopping(\n",
        "    monitor='val_loss',\n",
        "    min_delta=1e-4,\n",
        "    patience=25,\n",
        "    verbose=0,\n",
        "    mode='auto',\n",
        "    baseline=None,\n",
        "    restore_best_weights=False,\n",
        ")\n",
        "mod = ModelCheckpoint('webmodel/',\n",
        "                monitor = 'val_loss',\n",
        "                save_best_only = True)\n",
        "\n",
        "callbacks = [PlotLossesKeras(),ear,mod]\n",
        "webmodel.compile(optimizer=tf.keras.optimizers.Adam(),loss='mean_absolute_error')"
      ],
      "metadata": {
        "id": "49UsN4ppGGfP"
      },
      "execution_count": null,
      "outputs": []
    },
    {
      "cell_type": "code",
      "source": [
        "#del webmodel\n"
      ],
      "metadata": {
        "id": "VTMM97C1JZTw"
      },
      "execution_count": null,
      "outputs": []
    },
    {
      "cell_type": "code",
      "source": [
        "batch_size=128\n",
        "epochs = 500\n",
        "plt.rcParams['figure.figsize']=(4,3)\n",
        "webmodel.fit(train_df_val, test_df_val,\n",
        "                    batch_size=batch_size,\n",
        "                    epochs=epochs,\n",
        "                    validation_split=0.3,\n",
        "                    callbacks =  callbacks,\n",
        "             )"
      ],
      "metadata": {
        "id": "hdi6DIgtGGcr"
      },
      "execution_count": null,
      "outputs": []
    },
    {
      "cell_type": "code",
      "source": [],
      "metadata": {
        "id": "kd0DzZGvuRVz"
      },
      "execution_count": null,
      "outputs": []
    },
    {
      "cell_type": "code",
      "source": [
        "id_s = np.random.randint(0,len(df),1)[0]\n",
        "\n",
        "sample = train_df_val[id_s:id_s+1,:,:]\n",
        "smple_test = test_df_val[id_s:id_s+1]\n",
        "print('Sample ',id_s,\" Size - \",sample.shape)\n",
        "pred=webmodel.predict(sample).ravel()\n",
        "print(\"Pred -> \",pred.shape)\n",
        "\n",
        "\n",
        "x = train_df.iloc[id_s,:490].values\n",
        "y = test_df.iloc[id_s,].values\n",
        "mean_df =  pd.read_csv('/content/assets/mean_off_sample.csv').iloc[:,1]\n",
        "mean =  mean_df.iloc[id_s]\n",
        "\n",
        "plt.rcParams['figure.figsize']=(10,3)\n",
        "\n",
        "plt.plot(np.concatenate([x,pred]),c='b',ls='--')\n",
        "plt.plot(np.concatenate([x,y]),c='g')\n",
        "plt.xlim(300,550)\n"
      ],
      "metadata": {
        "id": "9NT5OnH5w0SD"
      },
      "execution_count": null,
      "outputs": []
    },
    {
      "cell_type": "code",
      "source": [
        "!unzip  /content/train_1.csv.zip -d /content"
      ],
      "metadata": {
        "id": "StmRwVFttc6A"
      },
      "execution_count": null,
      "outputs": []
    },
    {
      "cell_type": "code",
      "source": [],
      "metadata": {
        "id": "LpOe739wnYzU"
      },
      "execution_count": null,
      "outputs": []
    },
    {
      "cell_type": "markdown",
      "source": [],
      "metadata": {
        "id": "UiLiYateMcv4"
      }
    },
    {
      "cell_type": "code",
      "source": [],
      "metadata": {
        "id": "05sEGQ4ctAZF"
      },
      "execution_count": null,
      "outputs": []
    },
    {
      "cell_type": "code",
      "source": [],
      "metadata": {
        "id": "8L0O_5iTtkBq"
      },
      "execution_count": null,
      "outputs": []
    }
  ]
}